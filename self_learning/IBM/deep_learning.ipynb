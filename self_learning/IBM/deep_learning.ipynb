{
 "cells": [
  {
   "cell_type": "markdown",
   "metadata": {},
   "source": [
    "# Deep Learning with TensorFlow\n",
    "<hr>\n",
    "\n",
    "[video](https://apps.cognitiveclass.ai/learning/course/course-v1:BigDataUniversity+ML0120EN+v2/home)"
   ]
  },
  {
   "cell_type": "markdown",
   "metadata": {},
   "source": [
    "### Introduction to Deep Learning\n",
    "[watch the video here](https://www.youtube.com/watch?v=O5xeyoRL95U)\n",
    "\n"
   ]
  },
  {
   "cell_type": "markdown",
   "metadata": {},
   "source": [
    "<hr>\n",
    "\n",
    "### TensorFlow\n",
    "- Open source/Based on flow graphs\n",
    "- Graph with the following units: build >> execute\n",
    "  - *Nodes* = Mathematical Operations\n",
    "  - *Edges* = Multi-dimensional Arrays (Tensor)\n",
    "    - 2D picture with 1D color --> 3D Tensors\n",
    "- Architecture\n",
    "```plaintext\n",
    "+----------------------------------------+\n",
    "|           Python front end             |\n",
    "+----------------------------------------+\n",
    "|    Core TensorFlow Execution System    |\n",
    "+----------------------------------------+\n",
    "|   CPU   |   GPU   |   Android   |  iOS  |\n",
    "+----------------------------------------+\n",
    "```\n"
   ]
  }
 ],
 "metadata": {
  "kernelspec": {
   "display_name": "Python 3",
   "language": "python",
   "name": "python3"
  },
  "language_info": {
   "codemirror_mode": {
    "name": "ipython",
    "version": 3
   },
   "file_extension": ".py",
   "mimetype": "text/x-python",
   "name": "python",
   "nbconvert_exporter": "python",
   "pygments_lexer": "ipython3",
   "version": "3.11.11"
  }
 },
 "nbformat": 4,
 "nbformat_minor": 2
}
