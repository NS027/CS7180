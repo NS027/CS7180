{
 "cells": [
  {
   "cell_type": "markdown",
   "metadata": {},
   "source": [
    "# Machine Lerning with Python\n",
    "<hr>"
   ]
  },
  {
   "cell_type": "markdown",
   "metadata": {},
   "source": [
    "## Concept\n",
    "\n",
    "### **Definition：** <br>\n",
    "  Ability to learn without being explicitly programmed （Using pattern)\n",
    "\n",
    "### **Major machine learning techniques:** <br>\n",
    "- Regression/Estimation\n",
    "  - Predicting continuous values\n",
    "- Classification\n",
    "  - Item class/category of case\n",
    "- Clustering\n",
    "  - Finding the structure of data; summarization\n",
    "- Association\n",
    "  - Frequent co-occurring items/events\n",
    "- Anomaly detection\n",
    "  - Discovering abnormal and unusual cases\n",
    "- Sequence mining\n",
    "  - Predicting next events; click stream\n",
    "- Dimension Reduction\n",
    "  - Reduce the size of data\n",
    "- REcommendation systems\n",
    "  - Recommending items\n",
    "\n",
    "### **Difference between AI and Machine Learning:**\n",
    "- AI\n",
    "  - Computer vision\n",
    "  - Language processing\n",
    "  - Creativity\n",
    "- Machine Learning\n",
    "  - Classification\n",
    "  - Clustering\n",
    "  - Neural Network\n",
    "- Revolution in ML:\n",
    "  - Deep learning\n",
    "<hr>"
   ]
  },
  {
   "cell_type": "markdown",
   "metadata": {},
   "source": [
    "## Python\n",
    "- NumPy\n",
    "- SciPy\n",
    "- matplotlib\n",
    "- pandas\n",
    "- scikit-learn [check the tutorial](https://www.youtube.com/watch?v=hDKCxebp88A)\n",
    "  - classification / regression / clustering algorithms\n",
    "  - data processing -> Train -> Algorithm setup -> Model fitting -> Prediction -> Evaluation --> Model export \n",
    "<hr>"
   ]
  },
  {
   "cell_type": "markdown",
   "metadata": {},
   "source": [
    "## Supervised vs Unsupervised\n",
    "- **Supervised**(controlled environment)\n",
    "  - Using label the data to teach model: *numerical* / *categorical*\n",
    "  - **classification** & **regression**\n",
    "- **Unsupervised**(Less controlled environment)\n",
    "  - Dimension reduction\n",
    "  - Density estimation\n",
    "  - Market basket analysis\n",
    "  - **Clustering**: group of data points or objects that are somehow similar\n",
    "<hr><hr>"
   ]
  },
  {
   "cell_type": "markdown",
   "metadata": {},
   "source": [
    "## Machine Learning\n",
    "\n",
    "### Regression\n",
    "- Variables\n",
    "  - Dependent variable: **X**\n",
    "  - Independent variable: **Y**\n",
    "\n",
    "- **Simple linear regression:**<br>\n",
    "  *residual error*: between actual and predict data, use *mean square error(MSE)* to define how big it is.\n",
    "- **Multiple linear variable:**<br>\n",
    "  *optimized parameters*\n",
    "  - ordinary least squares: takes time for large datasets\n",
    "  - optimization algorithm\n",
    "    - gradient descent\n",
    "    - proper approach\n"
   ]
  }
 ],
 "metadata": {
  "kernelspec": {
   "display_name": "Python 3",
   "language": "python",
   "name": "python3"
  },
  "language_info": {
   "codemirror_mode": {
    "name": "ipython",
    "version": 3
   },
   "file_extension": ".py",
   "mimetype": "text/x-python",
   "name": "python",
   "nbconvert_exporter": "python",
   "pygments_lexer": "ipython3",
   "version": "3.11.11"
  }
 },
 "nbformat": 4,
 "nbformat_minor": 2
}
