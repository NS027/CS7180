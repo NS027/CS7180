{
 "cells": [
  {
   "cell_type": "markdown",
   "metadata": {},
   "source": [
    "# Potato Disease App\n",
    "<hr>\n",
    "\n",
    "[video](https://www.youtube.com/watch?v=dGtDTjYs3xc&list=PLeo1K3hjS3utJFNGyBpIvjWgSDY0eOE8S&index=2)"
   ]
  },
  {
   "cell_type": "markdown",
   "metadata": {},
   "source": [
    "## Technical Architecture\n",
    "| **Category**           | **Technologies & Tools**                                     |\n",
    "|------------------------|-------------------------------------------------------------|\n",
    "| **Model Building**     | TensorFlow, CNN, Data Augmentation, TF Dataset             |\n",
    "| **Backend Server**     | TF Serving, FastAPI                                        |\n",
    "| **Model Optimization** | Quantization, TensorFlow Lite                              |\n",
    "| **Frontend & Deployment** | React JS, React Native, Deployment to GCP              |\n",
    "\n",
    "## Data Collection\n",
    "- Third party dataset\n",
    "- Ask farmers to take photo\n",
    "- Web scraping scripts to collect \n",
    "\n",
    "This project use [plant village](https://www.kaggle.com/datasets/arjuntejaswi/plant-village)"
   ]
  }
 ],
 "metadata": {
  "kernelspec": {
   "display_name": "Python 3",
   "language": "python",
   "name": "python3"
  },
  "language_info": {
   "name": "python",
   "version": "3.11.11"
  }
 },
 "nbformat": 4,
 "nbformat_minor": 2
}
